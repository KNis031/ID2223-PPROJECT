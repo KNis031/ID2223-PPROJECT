{
 "cells": [
  {
   "cell_type": "code",
   "execution_count": 1,
   "id": "2d1547c9",
   "metadata": {},
   "outputs": [
    {
     "name": "stderr",
     "output_type": "stream",
     "text": [
      "/Users/karlsimu/miniforge3/envs/base-id2223/lib/python3.9/site-packages/tqdm/auto.py:21: TqdmWarning: IProgress not found. Please update jupyter and ipywidgets. See https://ipywidgets.readthedocs.io/en/stable/user_install.html\n",
      "  from .autonotebook import tqdm as notebook_tqdm\n"
     ]
    }
   ],
   "source": [
    "import hopsworks\n",
    "from hsml.schema import Schema\n",
    "from hsml.model_schema import ModelSchema\n",
    "import joblib\n",
    "import os"
   ]
  },
  {
   "cell_type": "markdown",
   "id": "d32c866e",
   "metadata": {},
   "source": [
    "### put full model in dir"
   ]
  },
  {
   "cell_type": "code",
   "execution_count": null,
   "id": "c06c77c7",
   "metadata": {},
   "outputs": [],
   "source": [
    "import torch\n",
    "from CNN_model import ConvNet\n",
    "# save entire model, not just state dict\n",
    "device = torch.device('cpu')\n",
    "model = ConvNet(num_class=1000)\n",
    "m = torch.load('best_model/model', map_location=device)\n",
    "model.load_state_dict(m['model'])\n",
    "\n",
    "entire_model_path = 'best_model/entire_model'\n",
    "torch.save(model, entire_model_path)"
   ]
  },
  {
   "cell_type": "markdown",
   "id": "05116750",
   "metadata": {},
   "source": [
    "## HOPsworks"
   ]
  },
  {
   "cell_type": "code",
   "execution_count": 2,
   "id": "5760eeac",
   "metadata": {},
   "outputs": [
    {
     "name": "stdout",
     "output_type": "stream",
     "text": [
      "Connected. Call `.close()` to terminate connection gracefully.\n",
      "\n",
      "Logged in to project, explore it here https://c.app.hopsworks.ai:443/p/185498\n"
     ]
    }
   ],
   "source": [
    "project = hopsworks.login()"
   ]
  },
  {
   "cell_type": "code",
   "execution_count": 3,
   "id": "c70a1c74",
   "metadata": {},
   "outputs": [
    {
     "name": "stdout",
     "output_type": "stream",
     "text": [
      "Connected. Call `.close()` to terminate connection gracefully.\n"
     ]
    }
   ],
   "source": [
    "mr = project.get_model_registry()"
   ]
  },
  {
   "cell_type": "markdown",
   "id": "434e9bec",
   "metadata": {},
   "source": [
    "## upload model"
   ]
  },
  {
   "cell_type": "code",
   "execution_count": 4,
   "id": "c2fdc9cd",
   "metadata": {},
   "outputs": [],
   "source": [
    "model_dir=\"best_model\""
   ]
  },
  {
   "cell_type": "code",
   "execution_count": 5,
   "id": "602fc8ba",
   "metadata": {},
   "outputs": [],
   "source": [
    "sound_model = mr.python.create_model(\n",
    "    name=\"freesound_model\", \n",
    "    description=\"Audio tagging\"\n",
    ")"
   ]
  },
  {
   "cell_type": "code",
   "execution_count": 6,
   "id": "982bb38a",
   "metadata": {},
   "outputs": [
    {
     "name": "stderr",
     "output_type": "stream",
     "text": [
      "Model export complete: 100%|██████████| 6/6 [09:17<00:00, 92.90s/it]                    "
     ]
    },
    {
     "name": "stdout",
     "output_type": "stream",
     "text": [
      "Model created, explore it at https://c.app.hopsworks.ai:443/p/185498/models/freesound_model/4\n"
     ]
    },
    {
     "name": "stderr",
     "output_type": "stream",
     "text": [
      "\n"
     ]
    },
    {
     "data": {
      "text/plain": [
       "Model(name: 'freesound_model', version: 4)"
      ]
     },
     "execution_count": 6,
     "metadata": {},
     "output_type": "execute_result"
    }
   ],
   "source": [
    "sound_model.save(model_dir)"
   ]
  },
  {
   "cell_type": "markdown",
   "id": "e62c658c",
   "metadata": {},
   "source": [
    "## test fetch model"
   ]
  },
  {
   "cell_type": "code",
   "execution_count": 9,
   "id": "d9d943aa",
   "metadata": {},
   "outputs": [
    {
     "name": "stdout",
     "output_type": "stream",
     "text": [
      "Connected. Call `.close()` to terminate connection gracefully.\n",
      "Downloading file ... "
     ]
    },
    {
     "data": {
      "text/plain": [
       "ConvNet(\n",
       "  (bn_init): BatchNorm2d(1, eps=1e-05, momentum=0.1, affine=True, track_running_stats=True)\n",
       "  (conv_1): Conv2d(1, 64, kernel_size=(3, 3), stride=(1, 1), padding=(1, 1))\n",
       "  (bn_1): BatchNorm2d(64, eps=1e-05, momentum=0.1, affine=True, track_running_stats=True)\n",
       "  (mp_1): MaxPool2d(kernel_size=2, stride=2, padding=0, dilation=1, ceil_mode=False)\n",
       "  (conv_2): Conv2d(64, 128, kernel_size=(3, 3), stride=(1, 1), padding=(1, 1))\n",
       "  (bn_2): BatchNorm2d(128, eps=1e-05, momentum=0.1, affine=True, track_running_stats=True)\n",
       "  (mp_2): MaxPool2d(kernel_size=2, stride=2, padding=0, dilation=1, ceil_mode=False)\n",
       "  (conv_3): Conv2d(128, 256, kernel_size=(3, 3), stride=(1, 1), padding=(1, 1))\n",
       "  (bn_3): BatchNorm2d(256, eps=1e-05, momentum=0.1, affine=True, track_running_stats=True)\n",
       "  (mp_3): MaxPool2d(kernel_size=2, stride=2, padding=0, dilation=1, ceil_mode=False)\n",
       "  (conv_4): Conv2d(256, 256, kernel_size=(3, 3), stride=(1, 1), padding=(1, 1))\n",
       "  (bn_4): BatchNorm2d(256, eps=1e-05, momentum=0.1, affine=True, track_running_stats=True)\n",
       "  (mp_4): MaxPool2d(kernel_size=3, stride=3, padding=0, dilation=1, ceil_mode=False)\n",
       "  (dense_1): Linear(in_features=4096, out_features=4096, bias=True)\n",
       "  (dense_2): Linear(in_features=4096, out_features=1000, bias=True)\n",
       "  (dropout): Dropout(p=0.25, inplace=False)\n",
       ")"
      ]
     },
     "execution_count": 9,
     "metadata": {},
     "output_type": "execute_result"
    }
   ],
   "source": [
    "import torch\n",
    "model_registry = project.get_model_registry()\n",
    "model_p = model_registry.get_model(\"freesound_model\", version=4)\n",
    "model_dir = model_p.download()\n",
    "\n",
    "model_path = model_dir + \"/entire_model\"\n",
    "scaler_path = model_dir + \"/scaler_top_1000.pkl\"\n",
    "id2labels_path = model_dir + \"/id2token_top_1000.json\"\n",
    "py_file_path = model_dir + \"/CNN_model.py\"\n",
    "\n",
    "os.replace(py_file_path, \"CNN_model.py\")\n",
    "\n",
    "model = torch.load(model_path)\n",
    "model.eval()"
   ]
  },
  {
   "cell_type": "markdown",
   "id": "6399fc8c",
   "metadata": {},
   "source": [
    "## Test upload sound"
   ]
  },
  {
   "cell_type": "code",
   "execution_count": 7,
   "id": "2dfef85a",
   "metadata": {},
   "outputs": [
    {
     "name": "stderr",
     "output_type": "stream",
     "text": [
      "Uploading: 100.000%|██████████| 22432/22432 elapsed<00:01 remaining<00:00\n"
     ]
    },
    {
     "data": {
      "text/plain": [
       "'Resources/Freesound//sound_1.ogg'"
      ]
     },
     "execution_count": 7,
     "metadata": {},
     "output_type": "execute_result"
    }
   ],
   "source": [
    "resource_path = \"Resources/Freesound/\"\n",
    "s_file_name = resource_path + \"sound_1.ogg\"\n",
    "dataset_api = project.get_dataset_api()\n",
    "dataset_api.upload(s_file_name, resource_path, overwrite=True)"
   ]
  },
  {
   "cell_type": "code",
   "execution_count": 8,
   "id": "8bd832d0",
   "metadata": {},
   "outputs": [
    {
     "name": "stderr",
     "output_type": "stream",
     "text": [
      "Downloading: 100.000%|██████████| 22432/22432 elapsed<00:00 remaining<00:00\n"
     ]
    }
   ],
   "source": [
    "resource_path = \"Resources/Freesound/\"\n",
    "s_file_name = resource_path + \"sound_1.ogg\"\n",
    "s_file_path = dataset_api.download(s_file_name, resource_path, overwrite=True)\n"
   ]
  },
  {
   "cell_type": "markdown",
   "id": "702be7b7",
   "metadata": {},
   "source": [
    "## Upload json"
   ]
  },
  {
   "cell_type": "code",
   "execution_count": 3,
   "id": "e4048086",
   "metadata": {},
   "outputs": [
    {
     "name": "stderr",
     "output_type": "stream",
     "text": [
      "Uploading: 100.000%|██████████| 64/64 elapsed<00:01 remaining<00:00\n"
     ]
    },
    {
     "data": {
      "text/plain": [
       "'Resources/Freesound//prd_lbl_tokens.json'"
      ]
     },
     "execution_count": 3,
     "metadata": {},
     "output_type": "execute_result"
    }
   ],
   "source": [
    "\n",
    "import json \n",
    "\n",
    "dataset_api = project.get_dataset_api()\n",
    "\n",
    "# create\n",
    "prd_lbl_tokens_dict = {717730 : ['impulse', 'sine', 'multisample', 'pop', 'electro']} \n",
    "prd_lbl_tokens_json = json.dumps(prd_lbl_tokens_dict)\n",
    "\n",
    "local_path = \"Resources/Freesound/prd_lbl_tokens.json\"\n",
    "remote_path = \"Resources/Freesound/\"\n",
    "\n",
    "# Write JSON object to file\n",
    "with open(\"Resources/Freesound/prd_lbl_tokens.json\", \"w\") as of: \n",
    "    of.write(prd_lbl_tokens_json)\n",
    "\n",
    "dataset_api.upload(local_path, remote_path, overwrite=True)"
   ]
  },
  {
   "cell_type": "code",
   "execution_count": 4,
   "id": "eb763f43",
   "metadata": {},
   "outputs": [
    {
     "name": "stderr",
     "output_type": "stream",
     "text": [
      "Downloading: 100.000%|██████████| 64/64 elapsed<00:00 remaining<00:00\n"
     ]
    }
   ],
   "source": [
    "#these are switched\n",
    "remote_path = \"Resources/Freesound/prd_lbl_tokens.json\"\n",
    "local_path = \"Resources/Freesound/\"\n",
    "\n",
    "#Download\n",
    "prd_lbl_tokens_file_path = dataset_api.download(remote_path, local_path, overwrite=True)"
   ]
  },
  {
   "cell_type": "code",
   "execution_count": 5,
   "id": "c66b6d14",
   "metadata": {},
   "outputs": [
    {
     "data": {
      "text/plain": [
       "{'717730': ['impulse', 'sine', 'multisample', 'pop', 'electro'],\n",
       " '717731': ['impulse', 'sine', 'multisample', 'pop', 'electro']}"
      ]
     },
     "execution_count": 5,
     "metadata": {},
     "output_type": "execute_result"
    }
   ],
   "source": [
    "# add new entry\n",
    "local_path = \"Resources/Freesound/prd_lbl_tokens.json\"\n",
    "with open(local_path) as jsf:\n",
    "    prd_lbl_tokens_dict = json.load(jsf)\n",
    "prd_lbl_tokens_dict['717731'] = ['impulse', 'sine', 'multisample', 'pop', 'electro']\n",
    "prd_lbl_tokens_dict"
   ]
  },
  {
   "cell_type": "code",
   "execution_count": 6,
   "id": "abc687b5",
   "metadata": {},
   "outputs": [
    {
     "name": "stderr",
     "output_type": "stream",
     "text": [
      "Uploading: 100.000%|██████████| 128/128 elapsed<00:01 remaining<00:00\n"
     ]
    },
    {
     "data": {
      "text/plain": [
       "'Resources/Freesound//prd_lbl_tokens.json'"
      ]
     },
     "execution_count": 6,
     "metadata": {},
     "output_type": "execute_result"
    }
   ],
   "source": [
    "local_path = \"Resources/Freesound/prd_lbl_tokens.json\"\n",
    "remote_path = \"Resources/Freesound/\"\n",
    "\n",
    "# overwrite old local\n",
    "prd_lbl_tokens_json = json.dumps(prd_lbl_tokens_dict)\n",
    "with open(local_path, \"w\") as of: \n",
    "    of.write(prd_lbl_tokens_json)\n",
    "\n",
    "# upload\n",
    "dataset_api.upload(local_path, remote_path, overwrite=True)"
   ]
  },
  {
   "cell_type": "code",
   "execution_count": 3,
   "id": "52f202e0",
   "metadata": {},
   "outputs": [
    {
     "name": "stdout",
     "output_type": "stream",
     "text": [
      "made dir\n"
     ]
    }
   ],
   "source": [
    "\n",
    "import os\n",
    "remote_path = \"dira/dirb/\"\n",
    "if not os.path.exists(remote_path):\n",
    "    os.makedirs(remote_path)\n",
    "    print('made dir')"
   ]
  }
 ],
 "metadata": {
  "kernelspec": {
   "display_name": "Python 3 (ipykernel)",
   "language": "python",
   "name": "python3"
  },
  "language_info": {
   "codemirror_mode": {
    "name": "ipython",
    "version": 3
   },
   "file_extension": ".py",
   "mimetype": "text/x-python",
   "name": "python",
   "nbconvert_exporter": "python",
   "pygments_lexer": "ipython3",
   "version": "3.9.18"
  }
 },
 "nbformat": 4,
 "nbformat_minor": 5
}
